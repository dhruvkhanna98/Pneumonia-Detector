{
  "nbformat": 4,
  "nbformat_minor": 0,
  "metadata": {
    "colab": {
      "name": "Pneumonia Gang OG.ipynb",
      "version": "0.3.2",
      "provenance": [],
      "collapsed_sections": [],
      "include_colab_link": true
    },
    "kernelspec": {
      "name": "python3",
      "display_name": "Python 3"
    },
    "accelerator": "GPU"
  },
  "cells": [
    {
      "cell_type": "markdown",
      "metadata": {
        "id": "view-in-github",
        "colab_type": "text"
      },
      "source": [
        "<a href=\"https://colab.research.google.com/github/dhruvkhanna98/Pneumonia-Detector/blob/master/Pneumonia_OG.ipynb\" target=\"_parent\"><img src=\"https://colab.research.google.com/assets/colab-badge.svg\" alt=\"Open In Colab\"/></a>"
      ]
    },
    {
      "metadata": {
        "id": "c3Lhd1S4oE7S",
        "colab_type": "code",
        "colab": {}
      },
      "cell_type": "code",
      "source": [
        "from google.colab import drive\n",
        "drive.mount('/content/drive')\n"
      ],
      "execution_count": 0,
      "outputs": []
    },
    {
      "metadata": {
        "id": "B1fqb57ao4C2",
        "colab_type": "code",
        "colab": {}
      },
      "cell_type": "code",
      "source": [
        "import numpy as np \n",
        "import torch\n",
        "import torch.nn.functional as F\n",
        "from torchvision import datasets, transforms, models\n",
        "from collections import OrderedDict\n",
        "from torch import nn \n",
        "from torch import optim\n",
        "import pandas as pd"
      ],
      "execution_count": 0,
      "outputs": []
    },
    {
      "metadata": {
        "id": "FsJumSpv9BkZ",
        "colab_type": "code",
        "colab": {}
      },
      "cell_type": "code",
      "source": [
        "# Setting Float Cuda Tensor as Default tensor \n",
        "torch.set_default_tensor_type('torch.cuda.FloatTensor')"
      ],
      "execution_count": 0,
      "outputs": []
    },
    {
      "metadata": {
        "id": "vKM4J2kqldn9",
        "colab_type": "code",
        "colab": {}
      },
      "cell_type": "code",
      "source": [
        "data_dir = 'drive/My Drive/PnemoniaGang/chest_xray'\n",
        "train_dir = data_dir + '/train'\n",
        "valid_dir = data_dir + '/val'\n",
        "test_dir = data_dir + '/test'"
      ],
      "execution_count": 0,
      "outputs": []
    },
    {
      "metadata": {
        "id": "X6C_-x06ldoA",
        "colab_type": "code",
        "colab": {}
      },
      "cell_type": "code",
      "source": [
        "train_transforms = transforms.Compose([transforms.Resize((385,385)), \n",
        "                                       transforms.RandomRotation(degrees = [-30, 30]),\n",
        "                                       transforms.ToTensor(), \n",
        "                                       transforms.Normalize([0.485, 0.456, 0.406],\n",
        "                                                            [0.229, 0.224, 0.225])])\n",
        "\n",
        "transforms = transforms.Compose([transforms.Resize((384,384)),\n",
        "                                 transforms.ToTensor(), \n",
        "                                 transforms.Normalize([0.485, 0.456, 0.406],\n",
        "                                                            [0.229, 0.224, 0.225])])\n",
        "\n",
        "\n",
        "# Loading the Data \n",
        "train_data = datasets.ImageFolder(train_dir, transform = transforms)\n",
        "\n",
        "validation_data = datasets.ImageFolder(valid_dir, transform = transforms)\n",
        "\n",
        "test_data = datasets.ImageFolder(test_dir, transform = transforms)\n",
        "\n",
        "# DataLoaders \n",
        "trainloader = torch.utils.data.DataLoader(train_data, batch_size = 32, shuffle = True, num_workers = 2)\n",
        "\n",
        "validloader = torch.utils.data.DataLoader(validation_data, batch_size = 32, num_workers = 2)\n",
        "\n",
        "testloader = torch.utils.data.DataLoader(test_data, batch_size = 32, num_workers = 2)\n"
      ],
      "execution_count": 0,
      "outputs": []
    },
    {
      "metadata": {
        "id": "NipCI_bTldoD",
        "colab_type": "code",
        "colab": {}
      },
      "cell_type": "code",
      "source": [
        "# Loading a Pre-trained Model\n",
        "model = models.densenet161(pretrained = True)\n",
        "model"
      ],
      "execution_count": 0,
      "outputs": []
    },
    {
      "metadata": {
        "id": "yePQ4NINldoK",
        "colab_type": "code",
        "colab": {}
      },
      "cell_type": "code",
      "source": [
        "# Freezing Parameters\n",
        "for param in model.parameters(): \n",
        "    param.requires_grad = False\n",
        "    \n",
        "for param in model.features.denseblock4.parameters():\n",
        "    param.requires_grad = True\n",
        "\n",
        "input_size = model.classifier.in_features\n",
        "output_size = 2\n",
        "hidden_size = 600\n",
        "\n",
        "classifier = nn.Sequential(nn.Linear(input_size, hidden_size),\n",
        "                           nn.ReLU(),\n",
        "                           nn.Dropout(p=0.5),\n",
        "                           nn.BatchNorm1d(hidden_size),\n",
        "                           nn.Linear(hidden_size, output_size),\n",
        "                           nn.LogSoftmax(dim = 1))\n",
        "\n",
        "model.classifier = classifier"
      ],
      "execution_count": 0,
      "outputs": []
    },
    {
      "metadata": {
        "id": "dXbAqOvxldoM",
        "colab_type": "code",
        "colab": {}
      },
      "cell_type": "code",
      "source": [
        "def validation(model, validloader, criterion): \n",
        "    \n",
        "    total = 0\n",
        "    correct = 0\n",
        "    validation_loss = 0\n",
        "    \n",
        "    for inputs, labels in validloader: \n",
        "        inputs, labels = inputs.to('cuda'), labels.to('cuda')\n",
        "        outputs = model(inputs).to(\"cuda\")\n",
        "        _, predicted = torch.max(outputs.data, 1)\n",
        "        total += float(labels.size(0))\n",
        "        correct += float((predicted == labels).sum().item())\n",
        "        validation_loss += float(criterion(outputs, labels).item())\n",
        "    return validation_loss, correct, total\n"
      ],
      "execution_count": 0,
      "outputs": []
    },
    {
      "metadata": {
        "id": "-F5O5l2Rd2Fi",
        "colab_type": "code",
        "colab": {}
      },
      "cell_type": "code",
      "source": [
        "# Weights to compensate for the data Imbalance in the Testset classes\n",
        "\n",
        "input_weight = 3875/5216\n",
        "label_weight = 1\n",
        "\n",
        "weights = torch.cuda.FloatTensor([input_weight, label_weight])\n",
        "weights"
      ],
      "execution_count": 0,
      "outputs": []
    },
    {
      "metadata": {
        "id": "r20vfoX3ldoO",
        "colab_type": "code",
        "colab": {}
      },
      "cell_type": "code",
      "source": [
        "criterion = nn.NLLLoss(weight = weights)\n",
        "optimizer = torch.optim.Adam(model.parameters(), lr = 0.0005)\n",
        "scheduler = torch.optim.lr_scheduler.StepLR(optimizer, step_size = 2, gamma=0.1)\n"
      ],
      "execution_count": 0,
      "outputs": []
    },
    {
      "metadata": {
        "id": "uFHDJpQLldoR",
        "colab_type": "code",
        "colab": {}
      },
      "cell_type": "code",
      "source": [
        "steps = 0\n",
        "test_loss = 0\n",
        "accuracy = 0\n",
        "print_every = 40\n",
        "epochs = 5\n",
        "\n",
        "# Moving Model to GPU\n",
        "model.to('cuda')\n",
        "\n",
        "for e in range(epochs): \n",
        "    running_loss = 0\n",
        "    \n",
        "    # Decaying Learning Rate\n",
        "    scheduler.step()\n",
        "    \n",
        "    for inputs, labels in trainloader: \n",
        "        steps += 1\n",
        "        \n",
        "        # Moving inputs and labels to GPU\n",
        "        inputs, labels = inputs.to('cuda'), labels.to('cuda')\n",
        "        \n",
        "        # Forward Pass on the Data\n",
        "        outputs = model.forward(inputs)\n",
        "        \n",
        "        # Loss after Forward Pass\n",
        "        loss = criterion(outputs, labels)\n",
        "        \n",
        "        # Backpropagation\n",
        "        loss.backward()\n",
        "        \n",
        "        # Updating Weights\n",
        "        optimizer.step()\n",
        "        \n",
        "        running_loss += loss.item()\n",
        "        \n",
        "        if steps % print_every == 0: \n",
        "                # Model in Eval Mode for inference\n",
        "                model.eval()\n",
        "            \n",
        "                # Turning off gradients for validation\n",
        "                with torch.no_grad():\n",
        "                    validation_loss, correct, total = validation(model, testloader, criterion)\n",
        "                \n",
        "                    print(\"Epoch: {}/{}.. \".format(e+1, epochs),\n",
        "                          \"Training Loss: {:.3f}.. \".format(running_loss/print_every),\n",
        "                          \"Testing Loss: {:.3f}.. \".format(validation_loss/len(testloader)),\n",
        "                          \"Testing Accuracy: {:.3f}\".format((correct/total)*100))\n",
        "                \n",
        "                    running_loss = 0\n",
        "                \n",
        "                # Putting Model back in Training mode\n",
        "                model.train()"
      ],
      "execution_count": 0,
      "outputs": []
    },
    {
      "metadata": {
        "id": "cSu-aydildoU",
        "colab_type": "code",
        "colab": {}
      },
      "cell_type": "code",
      "source": [
        "model.eval()\n",
        "test_loss, correct, total = validation(model, testloader, criterion)\n",
        "print(\"Test Loss: {:.3f}.. \".format(test_loss/len(testloader)), \"Test Accuracy: {:.3f}\".format((correct/total)*100))  "
      ],
      "execution_count": 0,
      "outputs": []
    }
  ]
}